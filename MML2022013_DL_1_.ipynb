{
  "nbformat": 4,
  "nbformat_minor": 0,
  "metadata": {
    "colab": {
      "provenance": []
    },
    "kernelspec": {
      "name": "python3",
      "display_name": "Python 3"
    },
    "language_info": {
      "name": "python"
    }
  },
  "cells": [
    {
      "cell_type": "markdown",
      "source": [
        "# ROLL - MML2022013 (Bhavesh Kumar Bohara) \n",
        "##|| DL ASSIGNMENT 1 || \n"
      ],
      "metadata": {
        "id": "1fIYs1QzwH29"
      }
    },
    {
      "cell_type": "code",
      "execution_count": 1,
      "metadata": {
        "id": "8DwDhehKm5U2",
        "colab": {
          "base_uri": "https://localhost:8080/"
        },
        "outputId": "e802ab17-5070-4c25-994b-314475dadd53"
      },
      "outputs": [
        {
          "output_type": "stream",
          "name": "stdout",
          "text": [
            "Mounted at /content/drive/\n"
          ]
        }
      ],
      "source": [
        "from google.colab import drive\n",
        "drive.mount('/content/drive/')"
      ]
    },
    {
      "cell_type": "code",
      "source": [
        "!cp /content/drive/MyDrive/DLAssignment/assignment1-part1/data_process.py /content"
      ],
      "metadata": {
        "id": "9z9jPDFsm-B9"
      },
      "execution_count": 2,
      "outputs": []
    },
    {
      "cell_type": "code",
      "source": [
        "import data_process"
      ],
      "metadata": {
        "id": "5B9U5FljniYS"
      },
      "execution_count": 3,
      "outputs": []
    },
    {
      "cell_type": "code",
      "source": [
        "!cp /content/drive/MyDrive/DLAssignment/assignment1-part1/cifar10/get_datasets.py /content"
      ],
      "metadata": {
        "id": "JRxxB_4Tnoka"
      },
      "execution_count": 4,
      "outputs": []
    },
    {
      "cell_type": "code",
      "source": [
        "import get_datasets"
      ],
      "metadata": {
        "id": "u8d9CDl_nvSN",
        "colab": {
          "base_uri": "https://localhost:8080/"
        },
        "outputId": "7dd843cf-65c7-4ee1-da87-67aa7cd9d5dc"
      },
      "execution_count": 5,
      "outputs": [
        {
          "output_type": "stream",
          "name": "stdout",
          "text": [
            "Downloading...\n"
          ]
        }
      ]
    },
    {
      "cell_type": "code",
      "source": [
        "import os\n",
        "os.chdir(\"/content/drive/MyDrive/DLAssignment/assignment1-part1/cifar10\")"
      ],
      "metadata": {
        "id": "eGnxu2J7n2Zn"
      },
      "execution_count": 6,
      "outputs": []
    },
    {
      "cell_type": "code",
      "source": [
        "!python get_datasets.py"
      ],
      "metadata": {
        "colab": {
          "base_uri": "https://localhost:8080/"
        },
        "id": "y2Ml84mjn8OQ",
        "outputId": "268c0f23-4390-4ea5-ffd2-377fd577aded"
      },
      "execution_count": 7,
      "outputs": [
        {
          "output_type": "stream",
          "name": "stdout",
          "text": [
            "Downloading...\n"
          ]
        }
      ]
    },
    {
      "cell_type": "code",
      "source": [
        "from data_process import get_CIFAR10_data, get_MUSHROOM_data\n",
        "import random\n",
        "import numpy as np"
      ],
      "metadata": {
        "id": "AfWoTAddpNwr"
      },
      "execution_count": 8,
      "outputs": []
    },
    {
      "cell_type": "code",
      "source": [
        "TRAIN_IMAGES = 40000\n",
        "VAL_IMAGES = 10000"
      ],
      "metadata": {
        "id": "eT4CZh1SqOfs"
      },
      "execution_count": 9,
      "outputs": []
    },
    {
      "cell_type": "code",
      "source": [
        "import os\n",
        "os.chdir(\"/content/drive/MyDrive/DLAssignment/assignment1-part1\")"
      ],
      "metadata": {
        "id": "tORBp3MP2cVt"
      },
      "execution_count": 10,
      "outputs": []
    },
    {
      "cell_type": "code",
      "source": [
        "data = get_CIFAR10_data(TRAIN_IMAGES, VAL_IMAGES)\n",
        "X_train_CIFAR, y_train_CIFAR = data['X_train'], data['y_train']\n",
        "X_val_CIFAR, y_val_CIFAR = data['X_val'], data['y_val']\n",
        "X_test_CIFAR, y_test_CIFAR = data['X_test'], data['y_test']\n",
        "n_class_CIFAR = len(np.unique(y_test_CIFAR))\n",
        "\n",
        "print(\"Number of train samples: \", X_train_CIFAR.shape[0])\n",
        "print(\"Number of val samples: \", X_val_CIFAR.shape[0])\n",
        "print(\"Number of test samples: \", X_test_CIFAR.shape[0])"
      ],
      "metadata": {
        "id": "CZ_R2YAIqUxg",
        "colab": {
          "base_uri": "https://localhost:8080/"
        },
        "outputId": "332ff0bf-7565-4ae9-83a1-ec1531ed0ca4"
      },
      "execution_count": 11,
      "outputs": [
        {
          "output_type": "stream",
          "name": "stdout",
          "text": [
            "Number of train samples:  40000\n",
            "Number of val samples:  10000\n",
            "Number of test samples:  10000\n"
          ]
        }
      ]
    },
    {
      "cell_type": "code",
      "source": [
        "X_train_CIFAR = np.reshape(X_train_CIFAR, (X_train_CIFAR.shape[0], -1))\n",
        "X_val_CIFAR = np.reshape(X_val_CIFAR, (X_val_CIFAR.shape[0], -1))\n",
        "X_test_CIFAR = np.reshape(X_test_CIFAR, (X_test_CIFAR.shape[0], -1))\n",
        "\n",
        "print(\"Number of train samples: \", X_train_CIFAR.shape[0])\n",
        "print(\"Number of val samples: \", X_val_CIFAR.shape[0])\n",
        "print(\"Number of test samples: \", X_test_CIFAR.shape[0])"
      ],
      "metadata": {
        "id": "Y2nRibxUEWX7",
        "colab": {
          "base_uri": "https://localhost:8080/"
        },
        "outputId": "4aba791a-ba70-410c-a9c9-6dad0e34fdc4"
      },
      "execution_count": 12,
      "outputs": [
        {
          "output_type": "stream",
          "name": "stdout",
          "text": [
            "Number of train samples:  40000\n",
            "Number of val samples:  10000\n",
            "Number of test samples:  10000\n"
          ]
        }
      ]
    },
    {
      "cell_type": "code",
      "source": [
        "# TRAINING = 0.6 indicates 60% of the data is used as the training dataset.\n",
        "VALIDATION = 0.2"
      ],
      "metadata": {
        "id": "6GZWrm_2q3t_"
      },
      "execution_count": 13,
      "outputs": []
    },
    {
      "cell_type": "code",
      "source": [
        "data = get_MUSHROOM_data(VALIDATION)\n",
        "X_train_MR, y_train_MR = data['X_train'], data['y_train']\n",
        "X_val_MR, y_val_MR = data['X_val'], data['y_val']\n",
        "X_test_MR, y_test_MR = data['X_test'], data['y_test']\n",
        "n_class_MR = len(np.unique(y_test_MR))\n",
        "\n",
        "print(\"Number of train samples: \", X_train_MR.shape[0])\n",
        "print(\"Number of val samples: \", X_val_MR.shape[0])\n",
        "print(\"Number of test samples: \", X_test_MR.shape[0])"
      ],
      "metadata": {
        "id": "5xgI8bTwq687",
        "colab": {
          "base_uri": "https://localhost:8080/"
        },
        "outputId": "48df3a55-4956-4027-fd01-c0846150c3e8"
      },
      "execution_count": 14,
      "outputs": [
        {
          "output_type": "stream",
          "name": "stdout",
          "text": [
            "Number of train samples:  4874\n",
            "Number of val samples:  1625\n",
            "Number of test samples:  1625\n"
          ]
        }
      ]
    },
    {
      "cell_type": "code",
      "source": [
        "def get_acc(pred, y_test):\n",
        "    return np.sum(y_test==pred)/len(y_test)*100"
      ],
      "metadata": {
        "id": "FEKuVdneq_XI"
      },
      "execution_count": 15,
      "outputs": []
    },
    {
      "cell_type": "code",
      "source": [
        "import os\n",
        "os.chdir(\"/content/drive/MyDrive/DLAssignment/assignment1-part1\")"
      ],
      "metadata": {
        "id": "MOvqd6oXRL7I"
      },
      "execution_count": 16,
      "outputs": []
    },
    {
      "cell_type": "code",
      "source": [
        "from models import SVM, Softmax"
      ],
      "metadata": {
        "id": "wpwzxxi2r9kI"
      },
      "execution_count": 17,
      "outputs": []
    },
    {
      "cell_type": "code",
      "source": [
        "SVM"
      ],
      "metadata": {
        "id": "6pqbsRmmBSw2",
        "colab": {
          "base_uri": "https://localhost:8080/"
        },
        "outputId": "9f9c0f6d-6d84-4295-dcb0-119d32f77854"
      },
      "execution_count": 18,
      "outputs": [
        {
          "output_type": "execute_result",
          "data": {
            "text/plain": [
              "models.SVM.SVM"
            ]
          },
          "metadata": {},
          "execution_count": 18
        }
      ]
    },
    {
      "cell_type": "markdown",
      "source": [
        "#SVM"
      ],
      "metadata": {
        "id": "mGFTik0K-Ika"
      }
    },
    {
      "cell_type": "code",
      "source": [
        "lr = 0.01\n",
        "n_epochs = 5\n",
        "reg_const = 0.05\n",
        "\n",
        "svm_CIFAR = SVM(n_class_CIFAR, lr, n_epochs, reg_const)\n",
        "svm_CIFAR.train(X_train_CIFAR, y_train_CIFAR)"
      ],
      "metadata": {
        "id": "UEuXv9xRrBRy"
      },
      "execution_count": 19,
      "outputs": []
    },
    {
      "cell_type": "code",
      "source": [
        "pred_svm = svm_CIFAR.predict(X_train_CIFAR)\n",
        "print('The training accuracy is given by: %f' % (get_acc(pred_svm, y_train_CIFAR)))"
      ],
      "metadata": {
        "id": "aP199xn7sGaE",
        "colab": {
          "base_uri": "https://localhost:8080/"
        },
        "outputId": "ee313da2-6a72-44e5-cc01-b5f775f0418d"
      },
      "execution_count": 20,
      "outputs": [
        {
          "output_type": "stream",
          "name": "stdout",
          "text": [
            "The training accuracy is given by: 0.000000\n"
          ]
        }
      ]
    },
    {
      "cell_type": "code",
      "source": [
        "pred_svm = svm_CIFAR.predict(X_val_CIFAR)\n",
        "print('The validation accuracy is given by: %f' % (get_acc(pred_svm, y_val_CIFAR)))"
      ],
      "metadata": {
        "id": "zCJWkSj0sKVW",
        "colab": {
          "base_uri": "https://localhost:8080/"
        },
        "outputId": "f12a2d78-d994-4e99-c2c6-181fa74e4613"
      },
      "execution_count": 21,
      "outputs": [
        {
          "output_type": "stream",
          "name": "stdout",
          "text": [
            "The validation accuracy is given by: 0.000000\n"
          ]
        }
      ]
    },
    {
      "cell_type": "code",
      "source": [
        "pred_svm = svm_CIFAR.predict(X_test_CIFAR)\n",
        "print('The testing accuracy is given by: %f' % (get_acc(pred_svm, y_test_CIFAR)))"
      ],
      "metadata": {
        "id": "rENIS5WPaxZR",
        "colab": {
          "base_uri": "https://localhost:8080/"
        },
        "outputId": "115bedd9-f905-4965-b13f-61de3618295b"
      },
      "execution_count": 22,
      "outputs": [
        {
          "output_type": "stream",
          "name": "stdout",
          "text": [
            "The testing accuracy is given by: 0.000000\n"
          ]
        }
      ]
    },
    {
      "cell_type": "code",
      "source": [
        "lr = 0.01\n",
        "n_epochs = 5\n",
        "reg_const = 0.05\n",
        "\n",
        "svm_MR = SVM(n_class_MR, lr, n_epochs, reg_const)\n",
        "svm_MR.train(X_train_MR, y_train_MR)"
      ],
      "metadata": {
        "id": "mmOUcKiubQk6"
      },
      "execution_count": 23,
      "outputs": []
    },
    {
      "cell_type": "code",
      "source": [
        "pred_svm = svm_MR.predict(X_train_MR)\n",
        "print('The training accuracy is given by: %f' % (get_acc(pred_svm, y_train_MR)))"
      ],
      "metadata": {
        "id": "KbT7fbZsba3N",
        "colab": {
          "base_uri": "https://localhost:8080/"
        },
        "outputId": "f31aef4c-48aa-4983-cc02-3e33f1eed4a5"
      },
      "execution_count": 24,
      "outputs": [
        {
          "output_type": "stream",
          "name": "stdout",
          "text": [
            "The training accuracy is given by: 0.000000\n"
          ]
        }
      ]
    },
    {
      "cell_type": "code",
      "source": [
        "pred_svm = svm_MR.predict(X_val_MR)\n",
        "print('The validation accuracy is given by: %f' % (get_acc(pred_svm, y_val_MR)))"
      ],
      "metadata": {
        "id": "VdONnJMiz9gH",
        "colab": {
          "base_uri": "https://localhost:8080/"
        },
        "outputId": "7878dcbc-eb86-45dc-fe2d-369b7f1bf9d6"
      },
      "execution_count": 25,
      "outputs": [
        {
          "output_type": "stream",
          "name": "stdout",
          "text": [
            "The validation accuracy is given by: 0.000000\n"
          ]
        }
      ]
    },
    {
      "cell_type": "code",
      "source": [
        "pred_svm = svm_MR.predict(X_test_MR)\n",
        "print('The testing accuracy is given by: %f' % (get_acc(pred_svm, y_test_MR)))"
      ],
      "metadata": {
        "id": "PdcwOmsi0BSL",
        "colab": {
          "base_uri": "https://localhost:8080/"
        },
        "outputId": "6bdd5af4-36ef-4256-b6e2-4927d3ed7947"
      },
      "execution_count": 26,
      "outputs": [
        {
          "output_type": "stream",
          "name": "stdout",
          "text": [
            "The testing accuracy is given by: 0.000000\n"
          ]
        }
      ]
    },
    {
      "cell_type": "markdown",
      "source": [
        "#SOFTMAX"
      ],
      "metadata": {
        "id": "kKSK69TJ-DMm"
      }
    },
    {
      "cell_type": "code",
      "source": [
        "lr = 0.008\n",
        "n_epochs = 55\n",
        "reg_const = 0.05\n",
        "\n",
        "softmax_CIFAR = Softmax(n_class_CIFAR, lr, n_epochs, reg_const)\n",
        "softmax_CIFAR.train(X_train_CIFAR, y_train_CIFAR)"
      ],
      "metadata": {
        "id": "9GB9PVWV0CCv"
      },
      "execution_count": 27,
      "outputs": []
    },
    {
      "cell_type": "code",
      "source": [
        "pred_softmax = softmax_CIFAR.predict(X_train_CIFAR)\n",
        "print('The training accuracy is given by: %f' % (get_acc(pred_softmax, y_train_CIFAR)))"
      ],
      "metadata": {
        "id": "dgHP7BZD0Jqz",
        "colab": {
          "base_uri": "https://localhost:8080/"
        },
        "outputId": "a6c366eb-9416-4eb9-8ca4-f509d211e1af"
      },
      "execution_count": 28,
      "outputs": [
        {
          "output_type": "stream",
          "name": "stdout",
          "text": [
            "The training accuracy is given by: 0.000000\n"
          ]
        }
      ]
    },
    {
      "cell_type": "code",
      "source": [
        "pred_softmax = softmax_CIFAR.predict(X_val_CIFAR)\n",
        "print('The validation accuracy is given by: %f' % (get_acc(pred_softmax, y_val_CIFAR)))"
      ],
      "metadata": {
        "id": "wIYTo7S40KV1",
        "colab": {
          "base_uri": "https://localhost:8080/"
        },
        "outputId": "02b4048a-1e5b-4b06-d2eb-6acc8446249f"
      },
      "execution_count": 29,
      "outputs": [
        {
          "output_type": "stream",
          "name": "stdout",
          "text": [
            "The validation accuracy is given by: 0.000000\n"
          ]
        }
      ]
    },
    {
      "cell_type": "code",
      "source": [
        "pred_softmax = softmax_CIFAR.predict(X_test_CIFAR)\n",
        "print('The testing accuracy is given by: %f' % (get_acc(pred_softmax, y_test_CIFAR)))"
      ],
      "metadata": {
        "id": "8T7FrsnL0N0b",
        "colab": {
          "base_uri": "https://localhost:8080/"
        },
        "outputId": "30d6aa47-2f95-4f9f-8dd3-1d5d305e41e9"
      },
      "execution_count": 30,
      "outputs": [
        {
          "output_type": "stream",
          "name": "stdout",
          "text": [
            "The testing accuracy is given by: 0.000000\n"
          ]
        }
      ]
    },
    {
      "cell_type": "code",
      "source": [
        "lr = 0.008\n",
        "n_epochs = 55\n",
        "reg_const = 0.05\n",
        "\n",
        "softmax_MR = Softmax(n_class_MR, lr, n_epochs, reg_const)\n",
        "softmax_MR.train(X_train_MR, y_train_MR)"
      ],
      "metadata": {
        "id": "cryIf84t0R3U"
      },
      "execution_count": 31,
      "outputs": []
    },
    {
      "cell_type": "code",
      "source": [
        "pred_softmax = softmax_MR.predict(X_train_MR)\n",
        "print('The training accuracy is given by: %f' % (get_acc(pred_softmax, y_train_MR)))"
      ],
      "metadata": {
        "id": "8finRjnw0VxB",
        "colab": {
          "base_uri": "https://localhost:8080/"
        },
        "outputId": "7cc6b7c4-7547-4606-f3e2-8c66855968a6"
      },
      "execution_count": 32,
      "outputs": [
        {
          "output_type": "stream",
          "name": "stdout",
          "text": [
            "The training accuracy is given by: 0.000000\n"
          ]
        }
      ]
    },
    {
      "cell_type": "code",
      "source": [
        "pred_softmax = softmax_MR.predict(X_val_MR)\n",
        "print('The validation accuracy is given by: %f' % (get_acc(pred_softmax, y_val_MR)))"
      ],
      "metadata": {
        "id": "PprG6bXg0Xpd",
        "colab": {
          "base_uri": "https://localhost:8080/"
        },
        "outputId": "98ae5d8c-d87d-473a-d0f9-a26e40092d87"
      },
      "execution_count": 33,
      "outputs": [
        {
          "output_type": "stream",
          "name": "stdout",
          "text": [
            "The validation accuracy is given by: 0.000000\n"
          ]
        }
      ]
    },
    {
      "cell_type": "code",
      "source": [
        "pred_softmax = softmax_MR.predict(X_test_MR)\n",
        "print('The testing accuracy is given by: %f' % (get_acc(pred_softmax, y_test_MR)))"
      ],
      "metadata": {
        "id": "IelZ63WM0bBw",
        "colab": {
          "base_uri": "https://localhost:8080/"
        },
        "outputId": "8e4e087d-0b8e-4245-e5a1-4a08b2d58780"
      },
      "execution_count": 34,
      "outputs": [
        {
          "output_type": "stream",
          "name": "stdout",
          "text": [
            "The testing accuracy is given by: 0.000000\n"
          ]
        }
      ]
    }
  ]
}