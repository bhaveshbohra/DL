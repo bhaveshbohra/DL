{
  "nbformat": 4,
  "nbformat_minor": 0,
  "metadata": {
    "colab": {
      "provenance": []
    },
    "kernelspec": {
      "name": "python3",
      "display_name": "Python 3"
    },
    "language_info": {
      "name": "python"
    }
  },
  "cells": [
    {
      "cell_type": "markdown",
      "source": [
        "E-learning materials :\n",
        "https://drive.google.com/file/d/18JkVemAkSRmVxN_kyuR7AP6ktV8XDxwM/view\n",
        "\n",
        "https://drive.google.com/file/d/1d0g40SWNaeUq5noKqbDmo6mmcwvTP1Ez/view\n",
        "\n",
        "https://drive.google.com/file/d/1jLAiX9nujXTE8f89sRkutvGHf4j_bkSI/view\n",
        "\n",
        "\n",
        "For pytorch colab :\n",
        "https://colab.research.google.com/drive/12SIcPLEw8N0_AdZjqmEiTF8UkjfRoU2h?usp=sharing\n",
        "\n",
        "Access through college email-id.\n",
        "\n",
        "And create a copy of colab file and go through that file"
      ],
      "metadata": {
        "id": "JfAdnhnRzKiM"
      }
    },
    {
      "cell_type": "code",
      "execution_count": null,
      "metadata": {
        "id": "_9VpsO9rzHFf"
      },
      "outputs": [],
      "source": []
    }
  ]
}